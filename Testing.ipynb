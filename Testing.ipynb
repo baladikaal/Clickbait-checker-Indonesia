{
 "cells": [
  {
   "cell_type": "code",
   "execution_count": 1,
   "metadata": {},
   "outputs": [],
   "source": [
    "from joblib import dump, load"
   ]
  },
  {
   "cell_type": "code",
   "execution_count": 3,
   "metadata": {},
   "outputs": [],
   "source": [
    "my_rf = load('my_randomforest_model.joblib')\n",
    "my_nb = load('my_naivebayes_model.joblib')\n",
    "my_pp = load('my_pipeline_model.joblib')"
   ]
  },
  {
   "cell_type": "code",
   "execution_count": 23,
   "metadata": {},
   "outputs": [
    {
     "name": "stdout",
     "output_type": "stream",
     "text": [
      "Clickbait\n",
      "Clickbait\n",
      "No-Clickbait\n"
     ]
    }
   ],
   "source": [
    "label_brita = {1:\"Clickbait\", 0:\"No-Clickbait\"}\n",
    "\n",
    "#Random Forest\n",
    "test_rf = my_rf.predict([\"heboh hubungan ronaldo dan messi, apakah ada masalah?\"])\n",
    "print(label_brita[test_rf[0]])\n",
    "\n",
    "#Naive Bayes\n",
    "test_nb = my_rf.predict([\"astaga, siswi ini hamil. berikut penjelasannya\"])\n",
    "print(label_brita[test_nb[0]])\n",
    "\n",
    "#pipeline\n",
    "test_pp = my_rf.predict([\"real madrid juara lagi\"])\n",
    "print(label_brita[test_pp[0]])"
   ]
  },
  {
   "cell_type": "code",
   "execution_count": null,
   "metadata": {},
   "outputs": [],
   "source": []
  }
 ],
 "metadata": {
  "kernelspec": {
   "display_name": "Python 3",
   "language": "python",
   "name": "python3"
  },
  "language_info": {
   "codemirror_mode": {
    "name": "ipython",
    "version": 3
   },
   "file_extension": ".py",
   "mimetype": "text/x-python",
   "name": "python",
   "nbconvert_exporter": "python",
   "pygments_lexer": "ipython3",
   "version": "3.7.4"
  }
 },
 "nbformat": 4,
 "nbformat_minor": 2
}
