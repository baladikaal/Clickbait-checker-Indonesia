{
 "cells": [
  {
   "cell_type": "code",
   "execution_count": 10,
   "metadata": {},
   "outputs": [],
   "source": [
    "# sumber https://www.kaggle.com/bantalmetal/judul-artikel-online-dengan-label-clickbait"
   ]
  },
  {
   "cell_type": "code",
   "execution_count": 11,
   "metadata": {},
   "outputs": [],
   "source": [
    "import pandas as pd                 # pandas is a dataframe library\n",
    "df = pd.read_csv(\"primary-dataset.csv\", encoding = 'utf-8-sig')"
   ]
  },
  {
   "cell_type": "code",
   "execution_count": 12,
   "metadata": {},
   "outputs": [
    {
     "data": {
      "text/plain": [
       "(3237, 2)"
      ]
     },
     "execution_count": 12,
     "metadata": {},
     "output_type": "execute_result"
    }
   ],
   "source": [
    "#dimensi dataset terdiri dari 3237 baris dan 2 kolom\n",
    "df.shape"
   ]
  },
  {
   "cell_type": "code",
   "execution_count": 13,
   "metadata": {},
   "outputs": [
    {
     "data": {
      "text/html": [
       "<div>\n",
       "<style scoped>\n",
       "    .dataframe tbody tr th:only-of-type {\n",
       "        vertical-align: middle;\n",
       "    }\n",
       "\n",
       "    .dataframe tbody tr th {\n",
       "        vertical-align: top;\n",
       "    }\n",
       "\n",
       "    .dataframe thead th {\n",
       "        text-align: right;\n",
       "    }\n",
       "</style>\n",
       "<table border=\"1\" class=\"dataframe\">\n",
       "  <thead>\n",
       "    <tr style=\"text-align: right;\">\n",
       "      <th></th>\n",
       "      <th>text</th>\n",
       "      <th>label</th>\n",
       "    </tr>\n",
       "  </thead>\n",
       "  <tbody>\n",
       "    <tr>\n",
       "      <td>0</td>\n",
       "      <td>Purnomo Serahkan Surat Mundur dari Pilkada  ke...</td>\n",
       "      <td>0</td>\n",
       "    </tr>\n",
       "    <tr>\n",
       "      <td>1</td>\n",
       "      <td>Pemkot Bekasi Teken Aturan Tempat Hiburan Menu...</td>\n",
       "      <td>0</td>\n",
       "    </tr>\n",
       "    <tr>\n",
       "      <td>2</td>\n",
       "      <td>New Normal 5 Juni, ASN Tak Mesti Berbondong-bo...</td>\n",
       "      <td>0</td>\n",
       "    </tr>\n",
       "    <tr>\n",
       "      <td>3</td>\n",
       "      <td>WHO Waspadai Banyak Kematian di Puncak Kedua P...</td>\n",
       "      <td>0</td>\n",
       "    </tr>\n",
       "    <tr>\n",
       "      <td>4</td>\n",
       "      <td>VIDEO: Trump Ancam Tutup Twitter</td>\n",
       "      <td>1</td>\n",
       "    </tr>\n",
       "  </tbody>\n",
       "</table>\n",
       "</div>"
      ],
      "text/plain": [
       "                                                text  label\n",
       "0  Purnomo Serahkan Surat Mundur dari Pilkada  ke...      0\n",
       "1  Pemkot Bekasi Teken Aturan Tempat Hiburan Menu...      0\n",
       "2  New Normal 5 Juni, ASN Tak Mesti Berbondong-bo...      0\n",
       "3  WHO Waspadai Banyak Kematian di Puncak Kedua P...      0\n",
       "4                   VIDEO: Trump Ancam Tutup Twitter      1"
      ]
     },
     "execution_count": 13,
     "metadata": {},
     "output_type": "execute_result"
    }
   ],
   "source": [
    "#melihat 5 baris pertama dataset\n",
    "df.head(5)"
   ]
  },
  {
   "cell_type": "code",
   "execution_count": 14,
   "metadata": {},
   "outputs": [
    {
     "data": {
      "text/html": [
       "<div>\n",
       "<style scoped>\n",
       "    .dataframe tbody tr th:only-of-type {\n",
       "        vertical-align: middle;\n",
       "    }\n",
       "\n",
       "    .dataframe tbody tr th {\n",
       "        vertical-align: top;\n",
       "    }\n",
       "\n",
       "    .dataframe thead th {\n",
       "        text-align: right;\n",
       "    }\n",
       "</style>\n",
       "<table border=\"1\" class=\"dataframe\">\n",
       "  <thead>\n",
       "    <tr style=\"text-align: right;\">\n",
       "      <th></th>\n",
       "      <th>text</th>\n",
       "      <th>label</th>\n",
       "    </tr>\n",
       "  </thead>\n",
       "  <tbody>\n",
       "    <tr>\n",
       "      <td>3232</td>\n",
       "      <td>Polisi Ungkap Sebelum Penyerangan di Green Lak...</td>\n",
       "      <td>0</td>\n",
       "    </tr>\n",
       "    <tr>\n",
       "      <td>3233</td>\n",
       "      <td>Rupanya Ini Alasan Anak Buah John Key Bikin Ri...</td>\n",
       "      <td>1</td>\n",
       "    </tr>\n",
       "    <tr>\n",
       "      <td>3234</td>\n",
       "      <td>5 Fakta John Kei, Godfather Jakarta Terlibat K...</td>\n",
       "      <td>1</td>\n",
       "    </tr>\n",
       "    <tr>\n",
       "      <td>3235</td>\n",
       "      <td>Kemarin Malam Mencekam, Begini Suasana Terkini...</td>\n",
       "      <td>1</td>\n",
       "    </tr>\n",
       "    <tr>\n",
       "      <td>3236</td>\n",
       "      <td>Ricuh di Green Lake City Diduga Disebabkan Mas...</td>\n",
       "      <td>0</td>\n",
       "    </tr>\n",
       "  </tbody>\n",
       "</table>\n",
       "</div>"
      ],
      "text/plain": [
       "                                                   text  label\n",
       "3232  Polisi Ungkap Sebelum Penyerangan di Green Lak...      0\n",
       "3233  Rupanya Ini Alasan Anak Buah John Key Bikin Ri...      1\n",
       "3234  5 Fakta John Kei, Godfather Jakarta Terlibat K...      1\n",
       "3235  Kemarin Malam Mencekam, Begini Suasana Terkini...      1\n",
       "3236  Ricuh di Green Lake City Diduga Disebabkan Mas...      0"
      ]
     },
     "execution_count": 14,
     "metadata": {},
     "output_type": "execute_result"
    }
   ],
   "source": [
    "#melihat 5 baris terakhir dataset\n",
    "df.tail(5)"
   ]
  },
  {
   "cell_type": "code",
   "execution_count": 15,
   "metadata": {},
   "outputs": [
    {
     "data": {
      "text/plain": [
       "False"
      ]
     },
     "execution_count": 15,
     "metadata": {},
     "output_type": "execute_result"
    }
   ],
   "source": [
    "# mengecek apakah ada data yang berisi null\n",
    "df.isnull().values.any()"
   ]
  },
  {
   "cell_type": "code",
   "execution_count": 16,
   "metadata": {},
   "outputs": [],
   "source": [
    "# mengubah isi kolom jenis kelamin dari text menjadi integer (Laki-laki = 1; Perempuan= 0)\n",
    "label_brita = {\"Clickbait\" : 1, \"No-Clickbait\" : 0}"
   ]
  },
  {
   "cell_type": "code",
   "execution_count": 18,
   "metadata": {},
   "outputs": [
    {
     "name": "stdout",
     "output_type": "stream",
     "text": [
      "Jumlah Berita Clickbait :  1393 (43.03%)\n",
      "Jumlah Berita No-Clickbait: 1844 (56.97%)\n"
     ]
    }
   ],
   "source": [
    "# Mengecek distribusi jenis kelamin pada dataset\n",
    "\n",
    "num_obs = len(df)\n",
    "num_true = len(df.loc[df['label'] == 1])\n",
    "num_false = len(df.loc[df['label'] == 0])\n",
    "print(\"Jumlah Berita Clickbait :  {0} ({1:2.2f}%)\".format(num_true, (num_true/num_obs) * 100))\n",
    "print(\"Jumlah Berita No-Clickbait: {0} ({1:2.2f}%)\".format(num_false, (num_false/num_obs) * 100))"
   ]
  },
  {
   "cell_type": "code",
   "execution_count": 19,
   "metadata": {},
   "outputs": [],
   "source": [
    "# Split Dataset\n",
    "# Dataset yang adalah akan dipecah menjadi dua bagian, 70% data akan digunakan sebagai data training untuk melatih mesin. Kemudian 30% sisanya akan digunakan sebagai data testing untuk mengevaluasi akurasi predisksi machine learning.\n",
    "\n",
    "from sklearn.model_selection import train_test_split\n",
    "\n",
    "feature_col_names = [\"text\"]\n",
    "predicted_class_names = [\"label\"]\n",
    "\n",
    "X = df[feature_col_names].values     \n",
    "y = df[predicted_class_names].values\n",
    "split_test_size = 0.30\n",
    "\n",
    "text_train, text_test, y_train, y_test = train_test_split(X, y, test_size=split_test_size, stratify=y, random_state=42)\n"
   ]
  },
  {
   "cell_type": "code",
   "execution_count": 21,
   "metadata": {},
   "outputs": [
    {
     "name": "stdout",
     "output_type": "stream",
     "text": [
      "Dataset Asli Berita Clickbait       : 1393 (43.03%)\n",
      "Dataset Asli Berita No-Clickbait     : 1844 (56.97%)\n",
      "\n",
      "Dataset Training Berita Clickbait   : 975 (43.05%)\n",
      "Dataset Training Berita No-Clickbait : 1290 (56.95%)\n",
      "\n",
      "Dataset Test Berita Clickbait       : 418 (43.00%)\n",
      "Dataset Test Berita No-Clickbait     : 554 (57.00%)\n"
     ]
    }
   ],
   "source": [
    "# Dataset telah dipecah menjadi 2 bagian, mari kita cek distribusi nya.\n",
    "\n",
    "print(\"Dataset Asli Berita Clickbait       : {0} ({1:0.2f}%)\".format(len(df.loc[df['label'] == 1]), (len(df.loc[df['label'] == 1])/len(df.index)) * 100.0))\n",
    "print(\"Dataset Asli Berita No-Clickbait     : {0} ({1:0.2f}%)\".format(len(df.loc[df['label'] == 0]), (len(df.loc[df['label'] == 0])/len(df.index)) * 100.0))\n",
    "print(\"\")\n",
    "print(\"Dataset Training Berita Clickbait   : {0} ({1:0.2f}%)\".format(len(y_train[y_train[:] == 1]), (len(y_train[y_train[:] == 1])/len(y_train) * 100.0)))\n",
    "print(\"Dataset Training Berita No-Clickbait : {0} ({1:0.2f}%)\".format(len(y_train[y_train[:] == 0]), (len(y_train[y_train[:] == 0])/len(y_train) * 100.0)))\n",
    "print(\"\")\n",
    "print(\"Dataset Test Berita Clickbait       : {0} ({1:0.2f}%)\".format(len(y_test[y_test[:] == 1]), (len(y_test[y_test[:] == 1])/len(y_test) * 100.0)))\n",
    "print(\"Dataset Test Berita No-Clickbait     : {0} ({1:0.2f}%)\".format(len(y_test[y_test[:] == 0]), (len(y_test[y_test[:] == 0])/len(y_test) * 100.0)))"
   ]
  },
  {
   "cell_type": "code",
   "execution_count": 22,
   "metadata": {},
   "outputs": [],
   "source": [
    "# Terlihat hasilnya, dataset yang telah dipecah dua tetap dapat mempertahankan persentase distribusi jenis kelamin seperti pada dataset asli.\n",
    "\n",
    "# Features Extraction\n",
    "# Proses features extraction, berpengaruh terhadap hasil akurasi yang didapatkan nantinya. Disini saya kan menggunakan metode simple yaitu CountVectorizer yang akan membuat matrix frekwensi kemunculan dari suatu karakter di tiap nama yang diberikan, dengan opsi analisa ngram_range 2 - 6 hanya di dalam satu kata saja. Misal Muhammad Irfani Sahnur, menghasilkan n-gram :\n",
    "\n",
    "# mu\n",
    "# ham\n",
    "# mad\n",
    "# nur\n",
    "# dst\n",
    "\n",
    "from sklearn.feature_extraction.text import CountVectorizer\n",
    "\n",
    "vectorizer = CountVectorizer(analyzer = 'char_wb', ngram_range=(2,6))\n",
    "vectorizer.fit(text_train.ravel())\n",
    "\n",
    "X_train = vectorizer.transform(text_train.ravel())\n",
    "X_test = vectorizer.transform(text_test.ravel())"
   ]
  },
  {
   "cell_type": "code",
   "execution_count": 23,
   "metadata": {},
   "outputs": [
    {
     "name": "stderr",
     "output_type": "stream",
     "text": [
      "C:\\Users\\balal\\Anaconda3\\lib\\site-packages\\sklearn\\linear_model\\logistic.py:432: FutureWarning: Default solver will be changed to 'lbfgs' in 0.22. Specify a solver to silence this warning.\n",
      "  FutureWarning)\n"
     ]
    },
    {
     "data": {
      "text/plain": [
       "LogisticRegression(C=1.0, class_weight=None, dual=False, fit_intercept=True,\n",
       "                   intercept_scaling=1, l1_ratio=None, max_iter=100,\n",
       "                   multi_class='warn', n_jobs=None, penalty='l2',\n",
       "                   random_state=None, solver='warn', tol=0.0001, verbose=0,\n",
       "                   warm_start=False)"
      ]
     },
     "execution_count": 23,
     "metadata": {},
     "output_type": "execute_result"
    }
   ],
   "source": [
    "# Logistic Regression\n",
    "# Percobaan pertama menggunakan algoritma Logistic Regression. Data hasil feature extraction akan diinput sebagai data training.\n",
    "\n",
    "from sklearn.linear_model import LogisticRegression\n",
    "\n",
    "clf = LogisticRegression()\n",
    "clf.fit(X_train, y_train.ravel())"
   ]
  },
  {
   "cell_type": "code",
   "execution_count": 24,
   "metadata": {},
   "outputs": [
    {
     "name": "stdout",
     "output_type": "stream",
     "text": [
      "0.9969094922737307\n",
      "0.8024691358024691\n"
     ]
    }
   ],
   "source": [
    "# dataset training\n",
    "print(clf.score(X_train, y_train))\n",
    "\n",
    "# dataset test\n",
    "print(clf.score(X_test, y_test))\n",
    "\n",
    "# Akurasi prediksi menggunakan data test yang didapat cukup lumayan berada pada tingkat 80%"
   ]
  },
  {
   "cell_type": "code",
   "execution_count": 25,
   "metadata": {},
   "outputs": [
    {
     "name": "stdout",
     "output_type": "stream",
     "text": [
      "Accuracy: 0.8025\n",
      "[[310 108]\n",
      " [ 84 470]]\n",
      "\n",
      "Classification Report\n",
      "              precision    recall  f1-score   support\n",
      "\n",
      "           1       0.79      0.74      0.76       418\n",
      "           0       0.81      0.85      0.83       554\n",
      "\n",
      "    accuracy                           0.80       972\n",
      "   macro avg       0.80      0.80      0.80       972\n",
      "weighted avg       0.80      0.80      0.80       972\n",
      "\n"
     ]
    }
   ],
   "source": [
    "# Detail akurasi metriks\n",
    "\n",
    "from sklearn import metrics\n",
    "\n",
    "clf_predict = clf.predict(X_test)\n",
    "\n",
    "# training metrics\n",
    "print(\"Accuracy: {0:.4f}\".format(metrics.accuracy_score(y_test, clf_predict)))\n",
    "print(metrics.confusion_matrix(y_test, clf_predict, labels=[1, 0]) )\n",
    "print(\"\")\n",
    "print(\"Classification Report\")\n",
    "print(metrics.classification_report(y_test, clf_predict, labels=[1,0]))"
   ]
  },
  {
   "cell_type": "code",
   "execution_count": 54,
   "metadata": {},
   "outputs": [
    {
     "data": {
      "image/png": "[encoded data removed]",
      "text/plain": [
       "<Figure size 432x288 with 2 Axes>"
      ]
     },
     "metadata": {
      "needs_background": "light"
     },
     "output_type": "display_data"
    }
   ],
   "source": [
    "from sklearn.metrics import confusion_matrix\n",
    "CM = confusion_matrix(y_test, clf_predict)\n",
    "# Visualize it as a heatmap\n",
    "import seaborn\n",
    "import matplotlib.pyplot as plt\n",
    "seaborn.heatmap(CM)\n",
    "plt.show()"
   ]
  },
  {
   "cell_type": "code",
   "execution_count": 27,
   "metadata": {},
   "outputs": [
    {
     "name": "stdout",
     "output_type": "stream",
     "text": [
      "Clickbait\n"
     ]
    }
   ],
   "source": [
    "# Testing prediksi jenis kelamin\n",
    "\n",
    "label_brita = {1:\"Clickbait\", 0:\"No-Clickbait\"}\n",
    "test_predict = vectorizer.transform([\"VIDEO: Trump Ancam Tutup Twitter\"])\n",
    "\n",
    "res = clf.predict(test_predict)\n",
    "\n",
    "print(label_brita[int(res)])"
   ]
  },
  {
   "cell_type": "code",
   "execution_count": 28,
   "metadata": {},
   "outputs": [
    {
     "name": "stderr",
     "output_type": "stream",
     "text": [
      "C:\\Users\\balal\\Anaconda3\\lib\\site-packages\\sklearn\\linear_model\\logistic.py:432: FutureWarning: Default solver will be changed to 'lbfgs' in 0.22. Specify a solver to silence this warning.\n",
      "  FutureWarning)\n"
     ]
    },
    {
     "data": {
      "text/plain": [
       "0.8024691358024691"
      ]
     },
     "execution_count": 28,
     "metadata": {},
     "output_type": "execute_result"
    }
   ],
   "source": [
    "# Menggunakan Pipeline\n",
    "# Scikit memiliki fitur untuk memudahkan proses diatas dengan mengguanakan Pipeline. Penulisan kode jadi lebih simple dan rapih, berikut konversi kode diatas jika menggunakan Pipeline\n",
    "\n",
    "from sklearn.pipeline import Pipeline\n",
    "import numpy as np\n",
    "\n",
    "clf_lg = Pipeline([('vect', CountVectorizer(analyzer = 'char_wb', ngram_range=(2,6))),\n",
    "                     ('clf', LogisticRegression()),\n",
    "])\n",
    "_ = clf_lg.fit(text_train.ravel(), y_train.ravel())\n",
    "predicted = clf_lg.predict(text_test.ravel())\n",
    "np.mean(predicted == y_test.ravel())\n",
    "\n",
    "# Tingkat akurasi persis sama, dan lebih mudah dalam penulisan kode nya. Mari kita lakukan kembali testing prediksi jenis kelamin"
   ]
  },
  {
   "cell_type": "code",
   "execution_count": 37,
   "metadata": {},
   "outputs": [
    {
     "name": "stdout",
     "output_type": "stream",
     "text": [
      "No-Clickbait\n"
     ]
    }
   ],
   "source": [
    "result = clf_lg.predict([\"Nissan Indonesia Tutup Pabrik, Produksi Mobil Listrik Batal\"])\n",
    "print(label_brita[result[0]])"
   ]
  },
  {
   "cell_type": "code",
   "execution_count": 30,
   "metadata": {},
   "outputs": [
    {
     "data": {
      "text/plain": [
       "0.7716049382716049"
      ]
     },
     "execution_count": 30,
     "metadata": {},
     "output_type": "execute_result"
    }
   ],
   "source": [
    "# Naive Bayes\n",
    "# Algoritma berikutnya yang akan digunakan adalah Naive Bayes. Lansung saja kita coba\n",
    "\n",
    "from sklearn.naive_bayes import MultinomialNB\n",
    "\n",
    "clf_nb = Pipeline([('vect', CountVectorizer(analyzer = 'char_wb', ngram_range=(2,6))),\n",
    "                     ('clf', MultinomialNB()),\n",
    "])\n",
    "\n",
    "clf_nb = clf_nb.fit(text_train.ravel(), y_train.ravel())\n",
    "predicted = clf_nb.predict(text_test.ravel())\n",
    "np.mean(predicted == y_test.ravel())\n",
    "\n",
    "#Dengan algoritman Naive Bayes, tingkat akurasi yang didapatkan sedikit saja lebih rendah dari Logistic Regression yaitu 93.3%. Mari kita lakukan kembali testing prediksi jenis kelamin\n"
   ]
  },
  {
   "cell_type": "code",
   "execution_count": 31,
   "metadata": {},
   "outputs": [
    {
     "name": "stdout",
     "output_type": "stream",
     "text": [
      "Clickbait\n"
     ]
    }
   ],
   "source": [
    "result = clf_nb.predict([\"7 Tips Aman dan Bersih Mengolah Jamu di Rumah\"])\n",
    "print(label_brita[result[0]])"
   ]
  },
  {
   "cell_type": "code",
   "execution_count": 32,
   "metadata": {},
   "outputs": [
    {
     "data": {
      "text/plain": [
       "0.815843621399177"
      ]
     },
     "execution_count": 32,
     "metadata": {},
     "output_type": "execute_result"
    }
   ],
   "source": [
    "# Random Forest\n",
    "# Algoritma terakhir yang akan digunakan adalah Random Forest. Lansung saja kita coba\n",
    "\n",
    "from sklearn.ensemble import RandomForestClassifier\n",
    "\n",
    "clf_rf = Pipeline([('vect', CountVectorizer(analyzer = 'char_wb', ngram_range=(2,6))),\n",
    "                     ('clf', RandomForestClassifier(n_estimators=90, n_jobs=-1)),\n",
    "])\n",
    "\n",
    "clf_rf = clf_rf.fit(text_train.ravel(), y_train.ravel())\n",
    "predicted = clf_rf.predict(text_test.ravel())\n",
    "np.mean(predicted == y_test.ravel())\n",
    "\n",
    "# Dengan algoritman Random Forest, tingkat akurasi yang didapatkan lebih rendah dari dua algoritma sebelumnya, itu sebesar 93.12%. Algoritma ini juga mempunyai kekurangan, yaitu performance yang yang lebih lambat. Ok, Mari kita lakukan kembali testing prediksi jenis kelamin\n"
   ]
  },
  {
   "cell_type": "code",
   "execution_count": 102,
   "metadata": {},
   "outputs": [
    {
     "name": "stdout",
     "output_type": "stream",
     "text": [
      "Clickbait\n"
     ]
    }
   ],
   "source": [
    "result = clf_rf.predict([\"cengcorang meninggal,apakah benar\"])\n",
    "print(label_brita[result[0]])"
   ]
  },
  {
   "cell_type": "code",
   "execution_count": 35,
   "metadata": {},
   "outputs": [
    {
     "data": {
      "text/plain": [
       "['my_pipeline_model.joblib']"
      ]
     },
     "execution_count": 35,
     "metadata": {},
     "output_type": "execute_result"
    }
   ],
   "source": [
    "from joblib import dump, load\n",
    "\n",
    "#pickle model to disk\n",
    "\n",
    "#menyimpan model rf,nb dan pp\n",
    "dump(clf_rf, 'my_randomforest_model.joblib')\n",
    "dump(clf_nb, 'my_naivebayes_model.joblib')\n",
    "dump(clf_lg, 'my_pipeline_model.joblib')"
   ]
  }
 ],
 "metadata": {
  "kernelspec": {
   "display_name": "Python 3",
   "language": "python",
   "name": "python3"
  },
  "language_info": {
   "codemirror_mode": {
    "name": "ipython",
    "version": 3
   },
   "file_extension": ".py",
   "mimetype": "text/x-python",
   "name": "python",
   "nbconvert_exporter": "python",
   "pygments_lexer": "ipython3",
   "version": "3.7.4"
  }
 },
 "nbformat": 4,
 "nbformat_minor": 2
}
